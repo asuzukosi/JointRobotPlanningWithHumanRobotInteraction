{
 "cells": [
  {
   "cell_type": "markdown",
   "metadata": {},
   "source": [
    "## Niryo Ned robot control experiments\n",
    "In this notebook we explore the use of pyniryo robot arm for various behaviour planning, control and management"
   ]
  },
  {
   "cell_type": "markdown",
   "metadata": {},
   "source": [
    "### Connet robot\n",
    "connect to the robot based on the IP address of the robot, you can either connect to the robot through the robots hotspot or connect the robot to a shared network between your computer and the robot"
   ]
  },
  {
   "cell_type": "code",
<<<<<<< HEAD
   "execution_count": null,
=======
   "execution_count": 16,
>>>>>>> 5b8ad25ca5bcea854104cbf3a7c23dae8f3a008c
   "metadata": {},
   "outputs": [
    {
     "name": "stdout",
     "output_type": "stream",
     "text": [
      "\n",
      "Connected to server (172.20.10.3) on port: 40001\n",
      "\n"
     ]
    }
   ],
   "source": [
    "import pyniryo\n",
    "# if you are connected to the robot through the robot's hotspot this is the \n",
    "# default ip address for the hotspot connection\n",
    "# although we need to explore the possibility of connecting the robot to a shared network\n",
    "# to computer make network requests while connected to the robot\n",
    "ROBOT_IP_ADDRESS = \"172.20.10.3\"\n",
    "\n",
    "# If the computer is not connected to the same network as the robot it raises a network connection exception\n",
    "try:\n",
    "    Robot = pyniryo.NiryoRobot(ROBOT_IP_ADDRESS)\n",
    "except Exception as e:\n",
    "    print(\"You are not connected to the same network as the robot\")"
   ]
  },
  {
   "cell_type": "code",
   "execution_count": 21,
   "metadata": {},
   "outputs": [],
   "source": [
    "# Disconnect Robot\n",
    "Robot.close_connection()"
   ]
  },
  {
   "cell_type": "markdown",
   "metadata": {},
   "source": [
    "###  Initial robot Setup process\n",
    "- Calibrate the robot\n",
    "- Check the learning mode\n",
    "- Get the hardware status of the robot\n",
    "- Check the tool in use\n",
    "- Move the robot to  home position"
   ]
  },
  {
   "cell_type": "code",
   "execution_count": 17,
   "metadata": {},
   "outputs": [],
   "source": [
    "# Calibrate the robot\n",
    "Robot.calibrate(calibrate_mode=pyniryo.CalibrateMode.AUTO)"
   ]
  },
  {
   "cell_type": "markdown",
   "metadata": {},
   "source": [
    "When the learning mode is set to false you are not able to manually adjust the robot joints as they become locked to a particular position"
   ]
  },
  {
   "cell_type": "code",
   "execution_count": 18,
   "metadata": {},
   "outputs": [
    {
     "name": "stdout",
     "output_type": "stream",
     "text": [
      "True\n"
     ]
    }
   ],
   "source": [
    "# Experiment with adjusting the learnining mode\n",
    "Robot.set_learning_mode(True)\n",
    "current_learning_mode = Robot.get_learning_mode()\n",
    "print(current_learning_mode)"
   ]
  },
  {
   "cell_type": "code",
   "execution_count": 19,
   "metadata": {},
   "outputs": [
    {
     "name": "stdout",
     "output_type": "stream",
     "text": [
      "Temp (°C) : 45.0\n",
      "Hardware version : 1\n",
      "Connection Up : True\n",
      "Error Message : ''\n",
      "Calibration Needed : False\n",
      "Calibration in progress : False\n",
      "MOTORS INFOS : Motor1, Motor2, Motor3, Motor4, Motor5, Motor6,\n",
      "Names : ['joint_1', 'joint_2', 'joint_3', 'joint_4', 'joint_5', 'joint_6']\n",
      "Types : ['Niryo Stepper', 'Niryo Stepper', 'Niryo Stepper', 'DXL XL-430', 'DXL XL-430', 'DXL XL-320']\n",
      "Temperatures : [31.0, 30.0, 28.0, 35.0, 35.0, 28.0]\n",
      "Voltages : [0.0, 0.0, 0.0, 11.2, 11.2, 7.3]\n",
      "Hardware errors : [0, 0, 0, 0, 0, 0]\n"
     ]
    }
   ],
   "source": [
    "# Check the hardware status of the robot\n",
    "hardware_status = Robot.get_hardware_status()\n",
    "# the hardware status shows information such as \n",
    "# - Temperature\n",
    "# - Calibration needed or in progress\n",
    "# - Motor info, names, temperatures and voltages\n",
    "# - It also includes potential hardware errors\n",
    "print(hardware_status)"
   ]
  },
  {
   "cell_type": "code",
   "execution_count": 7,
   "metadata": {},
   "outputs": [
    {
     "name": "stdout",
     "output_type": "stream",
     "text": [
      "ToolID.GRIPPER_1\n"
     ]
    }
   ],
   "source": [
    "# Ensure the tool is updated an get the current tool in use\n",
    "Robot.update_tool()\n",
    "tool = Robot.get_current_tool_id()\n",
    "print(tool) # ToolID.GRIPPER_1 is the tool we are using for our \n",
    "            # robot experiment and it is a small gripper"
   ]
  },
  {
   "cell_type": "code",
   "execution_count": 15,
   "metadata": {},
   "outputs": [],
   "source": [
    "# Move the robot to the default location, this is done to ensure movement is\n",
    "# based on what is defined from the origin\n",
    "# Set to the learning mode to falseto prevent external adjustment during trajectory\n",
    "Robot.set_learning_mode(False)\n",
    "# adjust the pose to move to the home location\n",
    "Robot.move_to_home_pose()\n",
    "# set the leanring mode back to true to allow external adjustment\n",
    "Robot.set_learning_mode(True)"
   ]
  },
  {
   "cell_type": "markdown",
   "metadata": {},
   "source": [
    "### Manipulating the Tool values and adjusting tool behaviour\n",
    "In this section we will evaluate tool behaviour and compare and constrast low level tool APIs over  high level grasp and release APIs"
   ]
  },
  {
   "cell_type": "code",
   "execution_count": 16,
   "metadata": {},
   "outputs": [],
   "source": [
    "# update the current robot tool\n",
    "Robot.update_tool()\n",
    "# This ensures the robot is aware of what tool is currently in use"
   ]
  },
  {
   "cell_type": "code",
   "execution_count": 17,
   "metadata": {},
   "outputs": [
    {
     "name": "stdout",
     "output_type": "stream",
     "text": [
      "ToolID.GRIPPER_1\n"
     ]
    }
   ],
   "source": [
    "# get the current tool id\n",
    "current_tool = Robot.get_current_tool_id()\n",
    "print(current_tool)"
   ]
  },
  {
   "cell_type": "code",
   "execution_count": 34,
   "metadata": {},
   "outputs": [],
   "source": [
    "# reboot tool\n",
    "# the tool reboot is used when we want to reset the tool after it gets stuck\n",
    "Robot.tool_reboot()"
   ]
  },
  {
   "cell_type": "code",
   "execution_count": 35,
   "metadata": {},
   "outputs": [],
   "source": [
    "# Using high level grasp and release APIs\n",
    "# GRASP\n",
    "Robot.grasp_with_tool()\n",
    "# wait for a few seconds\n",
    "Robot.wait(3)\n",
    "# RELEASE\n",
    "Robot.release_with_tool()\n",
    "# wait for a few seconds\n",
    "Robot.wait(3)\n",
    "# GRASP\n",
    "Robot.grasp_with_tool()"
   ]
  },
  {
   "cell_type": "code",
   "execution_count": 74,
   "metadata": {},
   "outputs": [],
   "source": [
    "# Using low level open and close gripper on niryo robot\n",
    "# The only adjustable parameter we can use for our niryo robot is the speed\n",
    "gripper_speed = 1000\n",
    "\n",
    "# the low level gripper API is not working\n",
    "# GRASP\n",
    "Robot.close_gripper()\n",
    "# wait for a few seconds\n",
    "Robot.wait(3)\n",
    "# RELEASE\n",
    "Robot.open_gripper()\n",
    "# wait for a few seconds\n",
    "Robot.wait(3)\n",
    "# GRASP\n",
    "Robot.close_gripper()"
   ]
  },
  {
   "cell_type": "markdown",
   "metadata": {},
   "source": [
    "Speed difference across the various speeds is very small and negligible, it would be better to use the high level grasp with tool and release with tool APIs"
   ]
  },
  {
   "cell_type": "markdown",
   "metadata": {},
   "source": [
    "### Movement, Joints, Poses and Trajectories\n",
    "In this section we will cover robot movement and pose movement, this will be valuable for us to map the entire scope of location where the robot can move to and map it to pixel images"
   ]
  },
  {
   "cell_type": "code",
   "execution_count": 51,
   "metadata": {},
   "outputs": [
    {
     "ename": "TypeError",
     "evalue": "'bool' object is not callable",
     "output_type": "error",
     "traceback": [
      "\u001b[0;31m---------------------------------------------------------------------------\u001b[0m",
      "\u001b[0;31mTypeError\u001b[0m                                 Traceback (most recent call last)",
      "\u001b[1;32m/Users/kosisochukwuasuzu/Developer/machine_learning/llm-robotics/src/control/control_experiments.ipynb Cell 20\u001b[0m line \u001b[0;36m4\n\u001b[1;32m      <a href='vscode-notebook-cell:/Users/kosisochukwuasuzu/Developer/machine_learning/llm-robotics/src/control/control_experiments.ipynb#X25sZmlsZQ%3D%3D?line=1'>2</a>\u001b[0m Robot\u001b[39m.\u001b[39mcalibrate_auto()\n\u001b[1;32m      <a href='vscode-notebook-cell:/Users/kosisochukwuasuzu/Developer/machine_learning/llm-robotics/src/control/control_experiments.ipynb#X25sZmlsZQ%3D%3D?line=2'>3</a>\u001b[0m Robot\u001b[39m.\u001b[39mwait(\u001b[39m2\u001b[39m)\n\u001b[0;32m----> <a href='vscode-notebook-cell:/Users/kosisochukwuasuzu/Developer/machine_learning/llm-robotics/src/control/control_experiments.ipynb#X25sZmlsZQ%3D%3D?line=3'>4</a>\u001b[0m Robot\u001b[39m.\u001b[39;49mset_learning_mode(\u001b[39mFalse\u001b[39;49;00m)\n\u001b[1;32m      <a href='vscode-notebook-cell:/Users/kosisochukwuasuzu/Developer/machine_learning/llm-robotics/src/control/control_experiments.ipynb#X25sZmlsZQ%3D%3D?line=4'>5</a>\u001b[0m Robot\u001b[39m.\u001b[39mwait(\u001b[39m2\u001b[39m)\n\u001b[1;32m      <a href='vscode-notebook-cell:/Users/kosisochukwuasuzu/Developer/machine_learning/llm-robotics/src/control/control_experiments.ipynb#X25sZmlsZQ%3D%3D?line=5'>6</a>\u001b[0m Robot\u001b[39m.\u001b[39mmove_to_home_pose()\n",
      "\u001b[0;31mTypeError\u001b[0m: 'bool' object is not callable"
     ]
    }
   ],
   "source": [
    "# check if the robot needs calibration and if it needs calibration perform the calibration\n",
    "Robot.calibrate_auto()\n",
    "Robot.wait(2)\n",
    "Robot.set_learning_mode(False)\n",
    "Robot.wait(2)\n",
    "Robot.move_to_home_pose()\n",
    "Robot.wait(2)\n",
    "Robot.set_learning_mode(True)"
   ]
  },
  {
   "cell_type": "code",
   "execution_count": 18,
   "metadata": {},
   "outputs": [
    {
     "name": "stdout",
     "output_type": "stream",
     "text": [
      "x = 0.1239, y = -0.0001, z = 0.1717\n",
      "roll = -0.005, pitch = 1.026, yaw = -0.001\n"
     ]
    }
   ],
   "source": [
    "# Joint movement experiments\n",
    "home_pose = Robot.get_pose()\n",
    "print(home_pose)"
   ]
  },
  {
   "cell_type": "code",
   "execution_count": 47,
   "metadata": {},
   "outputs": [],
   "source": [
    "# move the joint to a specific joint position\n",
    "Robot.move_joints(0.0, 0.0, 0.0, 0.0, 0.0, 0.0)\n",
    "Robot.wait(1)\n",
    "Robot.move_joints(0.2, -0.3, 0.1, 0.0, 0.5, -0.8)\n",
    "Robot.release_with_tool()\n",
    "Robot.wait(2)\n",
    "Robot.grasp_with_tool()\n",
    "Robot.wait(1)\n",
    "Robot.move_to_home_pose()\n",
    "Robot.wait(1)\n",
    "Robot.set_learning_mode(True)"
   ]
  },
  {
   "cell_type": "code",
   "execution_count": 54,
   "metadata": {},
   "outputs": [],
   "source": [
    "# Set learning mode to true\n",
    "Robot.set_learning_mode(True)"
   ]
  },
  {
   "cell_type": "code",
   "execution_count": 30,
   "metadata": {},
   "outputs": [
    {
     "name": "stdout",
     "output_type": "stream",
     "text": [
      "x = 0.1417, y = 0.0011, z = 0.0900\n",
      "roll = 0.004, pitch = 1.398, yaw = 0.111\n"
     ]
    }
   ],
   "source": [
    "# Get current pose\n",
    "# Robot.move_to_home_pose()\n",
    "Robot.set_learning_mode(False)\n",
    "pose_read = Robot.get_pose()\n",
    "print(pose_read)\n",
    "Robot.set_learning_mode(True)"
   ]
  },
  {
   "cell_type": "code",
   "execution_count": null,
   "metadata": {},
   "outputs": [],
   "source": [
    "# Pose object definitions\n",
    "# x is the vertical distance of the robot end effector to its base, the lower the value of x, the closer the end effector is to the base of the robot 0.14 is the safest posible value for x, the highest save value for x is 0.4, the z values change depending on teh x values\n",
    "# y is the distance along the horizontal axis of the robot, negetive values are left of the robot\n",
    "# z determines how high from the base the robot should go, the higher the value of z the higher the robot arm, the lower the value the lower the robot goes, we discovered that 0.09 is the lowest safe value for the robot, we also found that 0.225 id the safest high value that the robot can go to\n",
    "\n",
    "# The roll, pitch and yaw are best left as they are\n",
    "\n",
    "# y base \n",
    "# x = 0.1417, y = 0.0011, z = 0.0900\n",
    "# roll = 0.004, pitch = 1.398, yaw = 0.111\n",
    "\n",
    "# y edge \n",
    "# x = 0.4541, y = -0.0222, z = 0.0749\n",
    "# roll = -0.095, pitch = 0.828, yaw = -0.063\n"
   ]
  },
  {
   "cell_type": "code",
   "execution_count": 35,
   "metadata": {},
   "outputs": [],
   "source": [
    "y_base_pose = pyniryo.PoseObject(x=0.14, y=0, z=0.15, roll=0.1, pitch=1.57, yaw=0)\n",
    "Robot.move_pose(y_base_pose)"
   ]
  },
  {
   "cell_type": "code",
   "execution_count": 53,
   "metadata": {},
   "outputs": [],
   "source": [
    "y_base_pick_pose = pyniryo.PoseObject(x=0.16, y=0.0, z=0.08, roll=0.1, pitch=1.57, yaw=0)\n",
    "Robot.pick_from_pose(y_base_pick_pose)"
   ]
  },
  {
   "cell_type": "code",
   "execution_count": 46,
   "metadata": {},
   "outputs": [],
   "source": [
    "pose_target_obj = pyniryo.PoseObject(\n",
    "    x=0.225, y=0.15, z=0.07,\n",
    "    roll=0.1, pitch=1.57, yaw=0.0,\n",
    ")\n",
    "Robot.pick_from_pose(pose_target_obj)"
   ]
  },
  {
   "cell_type": "code",
   "execution_count": 5,
   "metadata": {},
   "outputs": [],
   "source": [
    "place = pyniryo.PoseObject(\n",
    "    x=0.225, y=-0.15, z=0.07,\n",
    "    roll=-0.1, pitch=1.57, yaw=0.0,\n",
    ")\n",
    "Robot.place_from_pose(place)"
   ]
  },
  {
   "cell_type": "code",
   "execution_count": 9,
   "metadata": {},
   "outputs": [],
   "source": [
    "# moving to a specific pose\n",
    "# can move to pose as long as poses are valid and can be computed via move-it\n",
    "Robot.grasp_with_tool()\n",
    "Robot.move_pose(place)"
   ]
  },
  {
   "cell_type": "code",
   "execution_count": 55,
   "metadata": {},
   "outputs": [],
   "source": [
    "# Working with joint values to control robot movement\n",
    "j1 = 0.0 # this joint is responsible for the robot base joint\n",
    "j2 = 0.0 # this joint is responsible for the robot shoulder joint\n",
    "j3 = 0.0 # this joint is responsible for the robot elbow joint\n",
    "j4 = 0.0 # this is responsible for the post shoulder arm twist\n",
    "j5 = 0.0 # does not control any joints\n",
    "j6 = 0.0 # controls the wrist joint\n",
    "\n",
    "Robot.move_joints([j1, j2, j3, j4, j5, j6])\n"
   ]
  },
  {
   "cell_type": "code",
   "execution_count": 55,
   "metadata": {},
   "outputs": [
    {
     "name": "stdout",
     "output_type": "stream",
     "text": [
      "[-0.08088698326484066, -0.5448484777320692, -0.9516727014045179, 0.06757914863722043, 0.032253684576855214, -0.11641346110802178]\n"
     ]
    }
   ],
   "source": [
    "joint_values = Robot.get_joints()\n",
    "print(joint_values)"
   ]
  },
  {
   "cell_type": "code",
   "execution_count": 88,
   "metadata": {},
   "outputs": [
    {
     "name": "stdout",
     "output_type": "stream",
     "text": [
      "x = 0.2594, y = 0.2858, z = 0.1440\n",
      "roll = 0.228, pitch = 0.985, yaw = 0.909\n"
     ]
    }
   ],
   "source": [
    "pose_values = Robot.get_pose()\n",
    "print(pose_values)"
   ]
  },
  {
   "cell_type": "code",
   "execution_count": 28,
   "metadata": {},
   "outputs": [],
   "source": [
    "def calculate_robot_x_axis(pixel_y):\n",
    "    # Calculates the x axis for the robots movement given the pixel y axis\n",
    "    \n",
    "    # check if pixel value is within range\n",
    "    if (pixel_y < 215 or pixel_y > 415):\n",
    "        raise Exception(\"Pixel Y is out of robot range\")\n",
    "    # get difference from base\n",
    "    PIXEL_BASE = 415\n",
    "    difference = abs(PIXEL_BASE - pixel_y)\n",
    "    \n",
    "    # multiply difference by conversion factor\n",
    "    robot_axis_difference = difference * 0.00093578\n",
    "    \n",
    "    # add robot axis difference to robot axis base\n",
    "    ROBOT_AXIS_BASE = 0.1495\n",
    "    robot_x_axis = ROBOT_AXIS_BASE + robot_axis_difference\n",
    "    return robot_x_axis"
   ]
  },
  {
   "cell_type": "code",
   "execution_count": 29,
   "metadata": {},
   "outputs": [
    {
     "data": {
      "text/plain": [
       "0.2571147"
      ]
     },
     "execution_count": 29,
     "metadata": {},
     "output_type": "execute_result"
    }
   ],
   "source": [
    "calculate_robot_x_axis(300)"
   ]
  },
  {
   "cell_type": "code",
   "execution_count": 53,
   "metadata": {},
   "outputs": [],
   "source": [
    "def calculate_robot_y_axis(pixel_x):\n",
    "    # Calculate the y axis for the robot arm mmovement given the\n",
    "    # pixel x axis\n",
    "    \n",
    "    # check if pixel is within the desired range\n",
    "    if (pixel_x < 0 or pixel_x > 640):\n",
    "        raise Exception(\"Pixel X is out of robot range\")\n",
    "    \n",
    "    # calculate difference from base\n",
    "    PIXEL_BASE = 0\n",
    "    pixel_differnce = abs(pixel_x - PIXEL_BASE)\n",
    "    \n",
    "    # multiply difference by conversion factor\n",
    "    robot_axis_difference = pixel_differnce * 0.00093578\n",
    "    \n",
    "    # add robot axis difference to robot base\n",
    "    ROBOT_AXIS_BASE = 0.2858\n",
    "    robot_y_axis = ROBOT_AXIS_BASE - robot_axis_difference\n",
    "    return robot_y_axis\n",
    "    "
   ]
  },
  {
   "cell_type": "code",
   "execution_count": 55,
   "metadata": {},
   "outputs": [
    {
     "data": {
      "text/plain": [
       "0.2858"
      ]
     },
     "execution_count": 55,
     "metadata": {},
     "output_type": "execute_result"
    }
   ],
   "source": [
    "calculate_robot_y_axis(0)"
   ]
  },
  {
   "cell_type": "code",
   "execution_count": 30,
   "metadata": {},
   "outputs": [],
   "source": [
    "def getRobotPoseFromPixelValues(pixel_x, pixel_y):\n",
    "    y = calculate_robot_y_axis(pixel_x)\n",
    "    x = calculate_robot_x_axis(pixel_y)\n",
    "    \n",
    "    return pyniryo.PoseObject(\n",
    "        x=x, y=y, z=0.065,\n",
    "        roll=-0.1, pitch=1.57, yaw=0.0,\n",
    "        )"
   ]
  },
  {
   "cell_type": "code",
   "execution_count": 162,
   "metadata": {},
   "outputs": [],
   "source": [
    "Robot.move_to_home_pose()\n",
    "Robot.set_learning_mode(True)\n"
   ]
  },
  {
   "cell_type": "code",
   "execution_count": 164,
   "metadata": {},
   "outputs": [
    {
     "name": "stdout",
     "output_type": "stream",
     "text": [
      "The calculated pose is  x = 0.2496, y = 0.0069, z = 0.0700\n",
      "roll = -0.100, pitch = 1.570, yaw = 0.000\n"
     ]
    }
   ],
   "source": [
    "pose = getRobotPoseFromPixelValues(328-30, 288+20)\n",
    "print(\"The calculated pose is \", pose)\n",
    "Robot.pick_from_pose(pose)"
   ]
  }
 ],
 "metadata": {
  "kernelspec": {
   "display_name": "venv",
   "language": "python",
   "name": "python3"
  },
  "language_info": {
   "codemirror_mode": {
    "name": "ipython",
    "version": 3
   },
   "file_extension": ".py",
   "mimetype": "text/x-python",
   "name": "python",
   "nbconvert_exporter": "python",
   "pygments_lexer": "ipython3",
   "version": "3.8.10"
  },
  "orig_nbformat": 4
 },
 "nbformat": 4,
 "nbformat_minor": 2
}
