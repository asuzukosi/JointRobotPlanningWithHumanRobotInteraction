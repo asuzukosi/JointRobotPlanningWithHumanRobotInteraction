{
 "cells": [
  {
   "cell_type": "markdown",
   "metadata": {},
   "source": [
    "## Niryo Ned robot control experiments\n",
    "In this notebook we explore the use of pyniryo robot arm for various behaviour planning, control and management"
   ]
  },
  {
   "cell_type": "markdown",
   "metadata": {},
   "source": [
    "### Connet robot\n",
    "connect to the robot based on the IP address of the robot, you can either connect to the robot through the robots hotspot or connect the robot to a shared network between your computer and the robot"
   ]
  },
  {
   "cell_type": "code",
   "execution_count": 1,
   "metadata": {},
   "outputs": [
    {
     "name": "stdout",
     "output_type": "stream",
     "text": [
      "\n",
      "Connected to server (172.20.10.3) on port: 40001\n",
      "\n"
     ]
    }
   ],
   "source": [
    "import pyniryo\n",
    "# if you are connected to the robot through the robot's hotspot this is the \n",
    "# default ip address for the hotspot connection\n",
    "# although we need to explore the possibility of connecting the robot to a shared network\n",
    "# to computer make network requests while connected to the robot\n",
    "ROBOT_IP_ADDRESS = \"172.20.10.3\"\n",
    "# ROBOT_IP_ADDRESS = \"10.10.10.10\"\n",
    "\n",
    "# If the computer is not connected to the same network as the robot it raises a network connection exception\n",
    "try:\n",
    "    Robot = pyniryo.NiryoRobot(ROBOT_IP_ADDRESS)\n",
    "except Exception as e:\n",
    "    print(\"You are not connected to the same network as the robot\")"
   ]
  },
  {
   "cell_type": "code",
   "execution_count": 126,
   "metadata": {},
   "outputs": [
    {
     "name": "stdout",
     "output_type": "stream",
     "text": [
      "\n",
      "Disconnected from robot\n",
      "\n"
     ]
    }
   ],
   "source": [
    "# Disconnect Robot\n",
    "Robot.close_connection()"
   ]
  },
  {
   "cell_type": "markdown",
   "metadata": {},
   "source": [
    "###  Initial robot Setup process\n",
    "- Calibrate the robot\n",
    "- Check the learning mode\n",
    "- Get the hardware status of the robot\n",
    "- Check the tool in use\n",
    "- Move the robot to  home position"
   ]
  },
  {
   "cell_type": "code",
   "execution_count": 2,
   "metadata": {},
   "outputs": [],
   "source": [
    "# Calibrate the robot\n",
    "Robot.calibrate(calibrate_mode=pyniryo.CalibrateMode.AUTO)"
   ]
  },
  {
   "cell_type": "markdown",
   "metadata": {},
   "source": [
    "When the learning mode is set to false you are not able to manually adjust the robot joints as they become locked to a particular position"
   ]
  },
  {
   "cell_type": "code",
   "execution_count": 84,
   "metadata": {},
   "outputs": [
    {
     "name": "stdout",
     "output_type": "stream",
     "text": [
      "True\n"
     ]
    }
   ],
   "source": [
    "# Experiment with adjusting the learnining mode\n",
    "Robot.set_learning_mode(True)\n",
    "current_learning_mode = Robot.get_learning_mode()\n",
    "print(current_learning_mode)"
   ]
  },
  {
   "cell_type": "code",
   "execution_count": 5,
   "metadata": {},
   "outputs": [
    {
     "name": "stdout",
     "output_type": "stream",
     "text": [
      "Temp (°C) : 44.0\n",
      "Hardware version : 1\n",
      "Connection Up : True\n",
      "Error Message : ''\n",
      "Calibration Needed : False\n",
      "Calibration in progress : False\n",
      "MOTORS INFOS : Motor1, Motor2, Motor3, Motor4, Motor5, Motor6,\n",
      "Names : ['joint_1', 'joint_2', 'joint_3', 'joint_4', 'joint_5', 'joint_6', 'Tool']\n",
      "Types : ['Niryo Stepper', 'Niryo Stepper', 'Niryo Stepper', 'DXL XL-430', 'DXL XL-430', 'DXL XL-320', 'DXL XL-320']\n",
      "Temperatures : [30.0, 30.0, 27.0, 33.0, 32.0, 26.0, 28.0]\n",
      "Voltages : [0.0, 0.0, 0.0, 11.2, 11.2, 7.3, 7.2]\n",
      "Hardware errors : [0, 0, 0, 0, 0, 0, 0]\n"
     ]
    }
   ],
   "source": [
    "# Check the hardware status of the robot\n",
    "hardware_status = Robot.get_hardware_status()\n",
    "# the hardware status shows information such as \n",
    "# - Temperature\n",
    "# - Calibration needed or in progress\n",
    "# - Motor info, names, temperatures and voltages\n",
    "# - It also includes potential hardware errors\n",
    "print(hardware_status)"
   ]
  },
  {
   "cell_type": "code",
   "execution_count": 6,
   "metadata": {},
   "outputs": [
    {
     "name": "stdout",
     "output_type": "stream",
     "text": [
      "ToolID.GRIPPER_1\n"
     ]
    }
   ],
   "source": [
    "# Ensure the tool is updated an get the current tool in use\n",
    "Robot.update_tool()\n",
    "tool = Robot.get_current_tool_id()\n",
    "print(tool) # ToolID.GRIPPER_1 is the tool we are using for our \n",
    "            # robot experiment and it is a small gripper"
   ]
  },
  {
   "cell_type": "code",
   "execution_count": 9,
   "metadata": {},
   "outputs": [],
   "source": [
    "# Move the robot to the default location, this is done to ensure movement is\n",
    "# based on what is defined from the origin\n",
    "# Set to the learning mode to falseto prevent external adjustment during trajectory\n",
    "Robot.set_learning_mode(False)\n",
    "# adjust the pose to move to the home location\n",
    "Robot.move_to_home_pose()\n",
    "# set the leanring mode back to true to allow external adjustment\n",
    "Robot.set_learning_mode(True)"
   ]
  },
  {
   "cell_type": "markdown",
   "metadata": {},
   "source": [
    "### Manipulating the Tool values and adjusting tool behaviour\n",
    "In this section we will evaluate tool behaviour and compare and constrast low level tool APIs over  high level grasp and release APIs"
   ]
  },
  {
   "cell_type": "code",
   "execution_count": 4,
   "metadata": {},
   "outputs": [],
   "source": [
    "# update the current robot tool\n",
    "Robot.update_tool()\n",
    "# This ensures the robot is aware of what tool is currently in use"
   ]
  },
  {
   "cell_type": "code",
   "execution_count": 5,
   "metadata": {},
   "outputs": [
    {
     "name": "stdout",
     "output_type": "stream",
     "text": [
      "ToolID.NONE\n"
     ]
    }
   ],
   "source": [
    "# get the current tool id\n",
    "current_tool = Robot.get_current_tool_id()\n",
    "print(current_tool)"
   ]
  },
  {
   "cell_type": "code",
   "execution_count": 6,
   "metadata": {},
   "outputs": [],
   "source": [
    "# reboot tool\n",
    "# the tool reboot is used when we want to reset the tool after it gets stuck\n",
    "Robot.tool_reboot()"
   ]
  },
  {
   "cell_type": "code",
   "execution_count": 10,
   "metadata": {},
   "outputs": [],
   "source": [
    "# Using high level grasp and release APIs\n",
    "# GRASP\n",
    "Robot.grasp_with_tool()\n",
    "# wait for a few seconds\n",
    "Robot.wait(3)\n",
    "# RELEASE\n",
    "Robot.release_with_tool()\n",
    "# wait for a few seconds\n",
    "Robot.wait(3)\n",
    "# GRASP\n",
    "Robot.grasp_with_tool()"
   ]
  },
  {
   "cell_type": "code",
   "execution_count": 105,
   "metadata": {},
   "outputs": [],
   "source": [
    "# Using low level open and close gripper on niryo robot\n",
    "# The only adjustable parameter we can use for our niryo robot is the speed\n",
    "gripper_speed = 1000\n",
    "\n",
    "# the low level gripper API is not working\n",
    "# GRASP\n",
    "Robot.close_gripper()\n",
    "# wait for a few seconds\n",
    "Robot.wait(3)\n",
    "# RELEASE\n",
    "Robot.open_gripper()\n",
    "# wait for a few seconds\n",
    "Robot.wait(3)\n",
    "# GRASP\n",
    "Robot.close_gripper()"
   ]
  },
  {
   "cell_type": "markdown",
   "metadata": {},
   "source": [
    "Speed difference across the various speeds is very small and negligible, it would be better to use the high level grasp with tool and release with tool APIs"
   ]
  },
  {
   "cell_type": "markdown",
   "metadata": {},
   "source": [
    "### Movement, Joints, Poses and Trajectories\n",
    "In this section we will cover robot movement and pose movement, this will be valuable for us to map the entire scope of location where the robot can move to and map it to pixel images"
   ]
  },
  {
   "cell_type": "code",
   "execution_count": 99,
   "metadata": {},
   "outputs": [],
   "source": [
    "# check if the robot needs calibration and if it needs calibration perform the calibration\n",
    "Robot.calibrate_auto()\n",
    "Robot.wait(2)\n",
    "Robot.set_learning_mode(False)\n",
    "Robot.wait(2)\n",
    "Robot.move_to_home_pose()\n",
    "Robot.wait(2)\n",
    "Robot.set_learning_mode(True)"
   ]
  },
  {
   "cell_type": "code",
   "execution_count": 18,
   "metadata": {},
   "outputs": [
    {
     "name": "stdout",
     "output_type": "stream",
     "text": [
      "x = 0.1239, y = -0.0001, z = 0.1717\n",
      "roll = -0.005, pitch = 1.026, yaw = -0.001\n"
     ]
    }
   ],
   "source": [
    "# Joint movement experiments\n",
    "home_pose = Robot.get_pose()\n",
    "print(home_pose)"
   ]
  },
  {
   "cell_type": "code",
   "execution_count": 108,
   "metadata": {},
   "outputs": [
    {
     "ename": "NiryoRobotException",
     "evalue": "Command KO : An error occured while executing the last command : Goal has been aborted : Command has been aborted due to a collision or a motor not able to follow the given trajectory",
     "output_type": "error",
     "traceback": [
      "\u001b[0;31m---------------------------------------------------------------------------\u001b[0m",
      "\u001b[0;31mNiryoRobotException\u001b[0m                       Traceback (most recent call last)",
      "\u001b[1;32m/Users/kosisochukwuasuzu/Developer/robotics/llm-robotics/src/control/control_experiments.ipynb Cell 22\u001b[0m line \u001b[0;36m2\n\u001b[1;32m      <a href='vscode-notebook-cell:/Users/kosisochukwuasuzu/Developer/robotics/llm-robotics/src/control/control_experiments.ipynb#X30sZmlsZQ%3D%3D?line=0'>1</a>\u001b[0m \u001b[39m# move the joint to a specific joint position\u001b[39;00m\n\u001b[0;32m----> <a href='vscode-notebook-cell:/Users/kosisochukwuasuzu/Developer/robotics/llm-robotics/src/control/control_experiments.ipynb#X30sZmlsZQ%3D%3D?line=1'>2</a>\u001b[0m Robot\u001b[39m.\u001b[39;49mmove_joints(\u001b[39m0.0\u001b[39;49m, \u001b[39m0.0\u001b[39;49m, \u001b[39m0.0\u001b[39;49m, \u001b[39m0.0\u001b[39;49m, \u001b[39m0.0\u001b[39;49m, \u001b[39m0.0\u001b[39;49m)\n\u001b[1;32m      <a href='vscode-notebook-cell:/Users/kosisochukwuasuzu/Developer/robotics/llm-robotics/src/control/control_experiments.ipynb#X30sZmlsZQ%3D%3D?line=2'>3</a>\u001b[0m Robot\u001b[39m.\u001b[39mwait(\u001b[39m1\u001b[39m)\n\u001b[1;32m      <a href='vscode-notebook-cell:/Users/kosisochukwuasuzu/Developer/robotics/llm-robotics/src/control/control_experiments.ipynb#X30sZmlsZQ%3D%3D?line=3'>4</a>\u001b[0m Robot\u001b[39m.\u001b[39mmove_joints(\u001b[39m0.2\u001b[39m, \u001b[39m-\u001b[39m\u001b[39m0.3\u001b[39m, \u001b[39m0.1\u001b[39m, \u001b[39m0.0\u001b[39m, \u001b[39m0.5\u001b[39m, \u001b[39m-\u001b[39m\u001b[39m0.8\u001b[39m)\n",
      "File \u001b[0;32m~/Developer/robotics/llm-robotics/venv/lib/python3.11/site-packages/pyniryo/api/tcp_client.py:441\u001b[0m, in \u001b[0;36mNiryoRobot.move_joints\u001b[0;34m(self, *args)\u001b[0m\n\u001b[1;32m    427\u001b[0m \u001b[39m\u001b[39m\u001b[39m\"\"\"\u001b[39;00m\n\u001b[1;32m    428\u001b[0m \u001b[39mMove robot joints. Joints are expressed in radians.\u001b[39;00m\n\u001b[1;32m    429\u001b[0m \n\u001b[0;32m   (...)\u001b[0m\n\u001b[1;32m    438\u001b[0m \u001b[39m:rtype: None\u001b[39;00m\n\u001b[1;32m    439\u001b[0m \u001b[39m\"\"\"\u001b[39;00m\n\u001b[1;32m    440\u001b[0m joints \u001b[39m=\u001b[39m \u001b[39mself\u001b[39m\u001b[39m.\u001b[39m__args_joints_to_list(\u001b[39m*\u001b[39margs)\n\u001b[0;32m--> 441\u001b[0m \u001b[39mself\u001b[39;49m\u001b[39m.\u001b[39;49m__send_n_receive(Command\u001b[39m.\u001b[39;49mMOVE_JOINTS, \u001b[39m*\u001b[39;49mjoints)\n",
      "File \u001b[0;32m~/Developer/robotics/llm-robotics/venv/lib/python3.11/site-packages/pyniryo/api/tcp_client.py:152\u001b[0m, in \u001b[0;36mNiryoRobot.__send_n_receive\u001b[0;34m(self, command_type, *parameter_list, **kwargs)\u001b[0m\n\u001b[1;32m    149\u001b[0m with_payload \u001b[39m=\u001b[39m kwargs\u001b[39m.\u001b[39mget(\u001b[39m\"\u001b[39m\u001b[39mwith_payload\u001b[39m\u001b[39m\"\u001b[39m, \u001b[39mFalse\u001b[39;00m)\n\u001b[1;32m    151\u001b[0m \u001b[39mself\u001b[39m\u001b[39m.\u001b[39m__send_command(command_type, \u001b[39m*\u001b[39mparameter_list)\n\u001b[0;32m--> 152\u001b[0m \u001b[39mreturn\u001b[39;00m \u001b[39mself\u001b[39;49m\u001b[39m.\u001b[39;49m__receive_answer(with_payload\u001b[39m=\u001b[39;49mwith_payload)\n",
      "File \u001b[0;32m~/Developer/robotics/llm-robotics/venv/lib/python3.11/site-packages/pyniryo/api/tcp_client.py:138\u001b[0m, in \u001b[0;36mNiryoRobot.__receive_answer\u001b[0;34m(self, with_payload)\u001b[0m\n\u001b[1;32m    136\u001b[0m     \u001b[39mraise\u001b[39;00m InvalidAnswerException(answer_status)\n\u001b[1;32m    137\u001b[0m \u001b[39mif\u001b[39;00m received_dict[\u001b[39m\"\u001b[39m\u001b[39mstatus\u001b[39m\u001b[39m\"\u001b[39m] \u001b[39m!=\u001b[39m \u001b[39m\"\u001b[39m\u001b[39mOK\u001b[39m\u001b[39m\"\u001b[39m:\n\u001b[0;32m--> 138\u001b[0m     \u001b[39mraise\u001b[39;00m NiryoRobotException(\u001b[39m\"\u001b[39m\u001b[39mCommand KO : \u001b[39m\u001b[39m{}\u001b[39;00m\u001b[39m\"\u001b[39m\u001b[39m.\u001b[39mformat(received_dict[\u001b[39m\"\u001b[39m\u001b[39mmessage\u001b[39m\u001b[39m\"\u001b[39m]))\n\u001b[1;32m    139\u001b[0m list_ret_param \u001b[39m=\u001b[39m received_dict[\u001b[39m\"\u001b[39m\u001b[39mlist_ret_param\u001b[39m\u001b[39m\"\u001b[39m]\n\u001b[1;32m    140\u001b[0m \u001b[39mif\u001b[39;00m \u001b[39mlen\u001b[39m(list_ret_param) \u001b[39m==\u001b[39m \u001b[39m1\u001b[39m:\n",
      "\u001b[0;31mNiryoRobotException\u001b[0m: Command KO : An error occured while executing the last command : Goal has been aborted : Command has been aborted due to a collision or a motor not able to follow the given trajectory"
     ]
    }
   ],
   "source": [
    "# move the joint to a specific joint position\n",
    "Robot.move_joints(0.0, 0.0, 0.0, 0.0, 0.0, 0.0)\n",
    "Robot.wait(1)\n",
    "Robot.move_joints(0.2, -0.3, 0.1, 0.0, 0.5, -0.8)\n",
    "Robot.release_with_tool()\n",
    "Robot.wait(2)\n",
    "Robot.grasp_with_tool()\n",
    "Robot.wait(1)\n",
    "Robot.move_to_home_pose()\n",
    "Robot.wait(1)\n",
    "Robot.set_learning_mode(True)"
   ]
  },
  {
   "cell_type": "code",
   "execution_count": 54,
   "metadata": {},
   "outputs": [],
   "source": [
    "# Set learning mode to true\n",
    "Robot.set_learning_mode(True)"
   ]
  },
  {
   "cell_type": "code",
   "execution_count": 30,
   "metadata": {},
   "outputs": [
    {
     "name": "stdout",
     "output_type": "stream",
     "text": [
      "x = 0.1417, y = 0.0011, z = 0.0900\n",
      "roll = 0.004, pitch = 1.398, yaw = 0.111\n"
     ]
    }
   ],
   "source": [
    "# Get current pose\n",
    "# Robot.move_to_home_pose()\n",
    "Robot.set_learning_mode(False)\n",
    "pose_read = Robot.get_pose()\n",
    "print(pose_read)\n",
    "Robot.set_learning_mode(True)"
   ]
  },
  {
   "cell_type": "code",
   "execution_count": null,
   "metadata": {},
   "outputs": [],
   "source": [
    "# Pose object definitions\n",
    "# x is the vertical distance of the robot end effector to its base, the lower the value of x, the closer the end effector is to the base of the robot 0.14 is the safest posible value for x, the highest save value for x is 0.4, the z values change depending on teh x values\n",
    "# y is the distance along the horizontal axis of the robot, negetive values are left of the robot\n",
    "# z determines how high from the base the robot should go, the higher the value of z the higher the robot arm, the lower the value the lower the robot goes, we discovered that 0.09 is the lowest safe value for the robot, we also found that 0.225 id the safest high value that the robot can go to\n",
    "\n",
    "# The roll, pitch and yaw are best left as they are\n",
    "\n",
    "# y base \n",
    "# x = 0.1417, y = 0.0011, z = 0.0900\n",
    "# roll = 0.004, pitch = 1.398, yaw = 0.111\n",
    "\n",
    "# y edge \n",
    "# x = 0.4541, y = -0.0222, z = 0.0749\n",
    "# roll = -0.095, pitch = 0.828, yaw = -0.063\n"
   ]
  },
  {
   "cell_type": "code",
   "execution_count": 35,
   "metadata": {},
   "outputs": [],
   "source": [
    "y_base_pose = pyniryo.PoseObject(x=0.14, y=0, z=0.15, roll=0.1, pitch=1.57, yaw=0)\n",
    "Robot.move_pose(y_base_pose)"
   ]
  },
  {
   "cell_type": "code",
   "execution_count": 53,
   "metadata": {},
   "outputs": [],
   "source": [
    "y_base_pick_pose = pyniryo.PoseObject(x=0.16, y=0.0, z=0.08, roll=0.1, pitch=1.57, yaw=0)\n",
    "Robot.pick_from_pose(y_base_pick_pose)"
   ]
  },
  {
   "cell_type": "code",
   "execution_count": 54,
   "metadata": {},
   "outputs": [],
   "source": [
    "pose_target_obj = pyniryo.PoseObject(\n",
    "   x = 0.23, y = -0.0000, z = 0.1706,\n",
    "   roll = -0.010, pitch = 1.032, yaw = -0.001\n",
    ")\n",
    "Robot.pick_from_pose(pose_target_obj)"
   ]
  },
  {
   "cell_type": "code",
   "execution_count": 124,
   "metadata": {},
   "outputs": [],
   "source": [
    "place = pyniryo.PoseObject(\n",
    "    x = 0.2636, y = 0.0121, z = 0.0630,\n",
    "    roll = -0.100, pitch = 1.570, yaw = 0.000\n",
    ")\n",
    "Robot.move_pose(place)"
   ]
  },
  {
   "cell_type": "code",
   "execution_count": 9,
   "metadata": {},
   "outputs": [],
   "source": [
    "# moving to a specific pose\n",
    "# can move to pose as long as poses are valid and can be computed via move-it\n",
    "Robot.grasp_with_tool()\n",
    "Robot.move_pose(place)"
   ]
  },
  {
   "cell_type": "code",
   "execution_count": 55,
   "metadata": {},
   "outputs": [],
   "source": [
    "# Working with joint values to control robot movement\n",
    "j1 = 0.0 # this joint is responsible for the robot base joint\n",
    "j2 = 0.0 # this joint is responsible for the robot shoulder joint\n",
    "j3 = 0.0 # this joint is responsible for the robot elbow joint\n",
    "j4 = 0.0 # this is responsible for the post shoulder arm twist\n",
    "j5 = 0.0 # does not control any joints\n",
    "j6 = 0.0 # controls the wrist joint\n",
    "\n",
    "Robot.move_joints([j1, j2, j3, j4, j5, j6])\n"
   ]
  },
  {
   "cell_type": "code",
   "execution_count": 55,
   "metadata": {},
   "outputs": [
    {
     "name": "stdout",
     "output_type": "stream",
     "text": [
      "[-0.08088698326484066, -0.5448484777320692, -0.9516727014045179, 0.06757914863722043, 0.032253684576855214, -0.11641346110802178]\n"
     ]
    }
   ],
   "source": [
    "joint_values = Robot.get_joints()\n",
    "print(joint_values)"
   ]
  },
  {
   "cell_type": "code",
   "execution_count": 89,
   "metadata": {},
   "outputs": [
    {
     "name": "stdout",
     "output_type": "stream",
     "text": [
      "x = 0.2311, y = -0.2440, z = 0.0720\n",
      "roll = -0.148, pitch = 1.005, yaw = -0.803\n"
     ]
    }
   ],
   "source": [
    "pose_values = Robot.get_pose()\n",
    "print(pose_values)"
   ]
  },
  {
   "cell_type": "code",
   "execution_count": 18,
   "metadata": {},
   "outputs": [],
   "source": [
    "x_factor = 0.1140625\n",
    "y_factor = 0.114583333333333"
   ]
  },
  {
   "cell_type": "code",
   "execution_count": 87,
   "metadata": {},
   "outputs": [],
   "source": [
    "def calculate_robot_x_axis(pixel_y, pixel_y_base=50, \n",
    "                           robot_x_base=0.1413):\n",
    "    \"\"\"\n",
    "    This will take the y axis of the pixel image and calculate the robot x axis\n",
    "    The pixel y base is the base / minimum value which the robot can reach this should be set at the beginning of the experiment\n",
    "    THe robot x base is robot x pose value for the provided pixel base\n",
    "    \"\"\"\n",
    "    CONVERSTION_VALUE = 0.0009135\n",
    "    # check if pixel value is within range\n",
    "    if (pixel_y < pixel_y_base or pixel_y > 315):\n",
    "        raise Exception(\"Pixel Y is out of robot range\")\n",
    "    # get difference from base\n",
    "    difference = abs(pixel_y - pixel_y_base)\n",
    "    \n",
    "    # multiply difference by conversion factor\n",
    "    robot_axis_difference = difference * CONVERSTION_VALUE\n",
    "    \n",
    "    # add robot axis difference to robot axis base\n",
    "    robot_x_axis = robot_x_base + robot_axis_difference\n",
    "    return robot_x_axis"
   ]
  },
  {
   "cell_type": "code",
   "execution_count": 91,
   "metadata": {},
   "outputs": [
    {
     "data": {
      "text/plain": [
       "0.376175"
      ]
     },
     "execution_count": 91,
     "metadata": {},
     "output_type": "execute_result"
    }
   ],
   "source": [
    "calculate_robot_x_axis(300)"
   ]
  },
  {
   "cell_type": "code",
   "execution_count": 92,
   "metadata": {},
   "outputs": [],
   "source": [
    "def calculate_robot_y_axis(pixel_x, \n",
    "                           pixel_x_base=110, \n",
    "                           robot_y_base=-0.2440):\n",
    "    \"\"\"\n",
    "    This will take the x axis of the pixel image and calculate the robot y axis\n",
    "    The pixel x base is the base / minimum value which the robot can reach this should be set at the beginning of the experiment\n",
    "    THe robot y base is robot x pose value for the provided pixel base\n",
    "    \"\"\"\n",
    "    \n",
    "    CONVERSTION_VALUE = 0.001006968\n",
    "    # check if pixel is within the desired range\n",
    "    if (pixel_x < 110 or pixel_x > 640):\n",
    "        raise Exception(\"Pixel X is out of robot range\")\n",
    "    \n",
    "    # calculate difference from base\n",
    "    pixel_difference = abs(pixel_x - pixel_x_base)\n",
    "    \n",
    "    # multiply difference by conversion factor\n",
    "    robot_axis_difference = pixel_difference * CONVERSTION_VALUE\n",
    "    \n",
    "    # add robot axis difference to robot base\n",
    "    robot_y_axis = robot_y_base + robot_axis_difference\n",
    "    return robot_y_axis\n",
    "    "
   ]
  },
  {
   "cell_type": "code",
   "execution_count": 93,
   "metadata": {},
   "outputs": [
    {
     "data": {
      "text/plain": [
       "-0.244"
      ]
     },
     "execution_count": 93,
     "metadata": {},
     "output_type": "execute_result"
    }
   ],
   "source": [
    "calculate_robot_y_axis(110)"
   ]
  },
  {
   "cell_type": "code",
   "execution_count": 72,
   "metadata": {},
   "outputs": [],
   "source": [
    "def getRobotPoseFromPixelValues(pixel_x, pixel_y):\n",
    "    y = calculate_robot_y_axis(pixel_x)\n",
    "    x = calculate_robot_x_axis(pixel_y)\n",
    "    \n",
    "    return pyniryo.PoseObject(\n",
    "        x=x, y=y, z=0.063,\n",
    "        roll=-0.1, pitch=1.57, yaw=0.0,\n",
    "        )"
   ]
  },
  {
   "cell_type": "code",
   "execution_count": 118,
   "metadata": {},
   "outputs": [
    {
     "name": "stdout",
     "output_type": "stream",
     "text": [
      "The calculated pose is  x = 0.2729, y = -0.0396, z = 0.0650\n",
      "roll = -0.100, pitch = 1.570, yaw = 0.000\n"
     ]
    }
   ],
   "source": [
    "pose = getRobotPoseFromPixelValues(313, 187)\n",
    "print(\"The calculated pose is \", pose)\n",
    "Robot.pick_from_pose(pose)"
   ]
  },
  {
   "cell_type": "code",
   "execution_count": 125,
   "metadata": {},
   "outputs": [],
   "source": [
    "Robot.move_to_home_pose()\n",
    "Robot.set_learning_mode(True)"
   ]
  }
 ],
 "metadata": {
  "kernelspec": {
   "display_name": "venv",
   "language": "python",
   "name": "python3"
  },
  "language_info": {
   "codemirror_mode": {
    "name": "ipython",
    "version": 3
   },
   "file_extension": ".py",
   "mimetype": "text/x-python",
   "name": "python",
   "nbconvert_exporter": "python",
   "pygments_lexer": "ipython3",
   "version": "3.11.5"
  },
  "orig_nbformat": 4
 },
 "nbformat": 4,
 "nbformat_minor": 2
}
