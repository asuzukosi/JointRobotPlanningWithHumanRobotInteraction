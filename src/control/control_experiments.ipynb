{
 "cells": [
  {
   "cell_type": "markdown",
   "metadata": {},
   "source": [
    "## Niryo Ned robot control experiments\n",
    "In this notebook we explore the use of pyniryo robot arm for various behaviour planning, control and management"
   ]
  },
  {
   "cell_type": "markdown",
   "metadata": {},
   "source": [
    "### Connet robot\n",
    "connect to the robot based on the IP address of the robot, you can either connect to the robot through the robots hotspot or connect the robot to a shared network between your computer and the robot"
   ]
  },
  {
   "cell_type": "code",
   "execution_count": 60,
   "metadata": {},
   "outputs": [
    {
     "name": "stdout",
     "output_type": "stream",
     "text": [
      "\n",
      "Connected to server (10.10.10.10) on port: 40001\n",
      "\n"
     ]
    }
   ],
   "source": [
    "import pyniryo\n",
    "# if you are connected to the robot through the robot's hotspot this is the \n",
    "# default ip address for the hotspot connection\n",
    "# although we need to explore the possibility of connecting the robot to a shared network\n",
    "# to computer make network requests while connected to the robot\n",
    "ROBOT_IP_ADDRESS = \"10.10.10.10\"\n",
    "\n",
    "# If the computer is not connected to the same network as the robot it raises a network connection exception\n",
    "try:\n",
    "    Robot = pyniryo.NiryoRobot(ROBOT_IP_ADDRESS)\n",
    "except Exception as e:\n",
    "    print(\"You are not connectied to the same network as the robot\")"
   ]
  },
  {
   "cell_type": "code",
   "execution_count": 2,
   "metadata": {},
   "outputs": [
    {
     "name": "stdout",
     "output_type": "stream",
     "text": [
      "\n",
      "Disconnected from robot\n",
      "\n"
     ]
    }
   ],
   "source": [
    "# Disconnect Robot\n",
    "Robot.close_connection()"
   ]
  },
  {
   "cell_type": "markdown",
   "metadata": {},
   "source": [
    "###  Initial robot Setup process\n",
    "- Calibrate the robot\n",
    "- Check the learning mode\n",
    "- Get the hardware status of the robot\n",
    "- Check the tool in use\n",
    "- Move the robot to  home position"
   ]
  },
  {
   "cell_type": "code",
   "execution_count": 61,
   "metadata": {},
   "outputs": [],
   "source": [
    "# Calibrate the robot\n",
    "Robot.calibrate(calibrate_mode=pyniryo.CalibrateMode.AUTO)"
   ]
  },
  {
   "cell_type": "markdown",
   "metadata": {},
   "source": [
    "When the learning mode is set to false you are not able to manually adjust the robot joints as they become locked to a particular position"
   ]
  },
  {
   "cell_type": "code",
   "execution_count": 65,
   "metadata": {},
   "outputs": [
    {
     "name": "stdout",
     "output_type": "stream",
     "text": [
      "False\n"
     ]
    }
   ],
   "source": [
    "# Experiment with adjusting the learnining mode\n",
    "Robot.set_learning_mode(False)\n",
    "current_learning_mode = Robot.get_learning_mode()\n",
    "print(current_learning_mode)"
   ]
  },
  {
   "cell_type": "code",
   "execution_count": 14,
   "metadata": {},
   "outputs": [
    {
     "name": "stdout",
     "output_type": "stream",
     "text": [
      "Temp (°C) : 41.0\n",
      "Hardware version : 1\n",
      "Connection Up : True\n",
      "Error Message : ''\n",
      "Calibration Needed : False\n",
      "Calibration in progress : False\n",
      "MOTORS INFOS : Motor1, Motor2, Motor3, Motor4, Motor5, Motor6,\n",
      "Names : ['joint_1', 'joint_2', 'joint_3', 'joint_4', 'joint_5', 'joint_6', 'Tool']\n",
      "Types : ['Niryo Stepper', 'Niryo Stepper', 'Niryo Stepper', 'DXL XL-430', 'DXL XL-430', 'DXL XL-320', 'DXL XL-320']\n",
      "Temperatures : [34.0, 33.0, 31.0, 37.0, 37.0, 29.0, 28.0]\n",
      "Voltages : [0.0, 0.0, 0.0, 11.2, 11.2, 7.3, 7.1]\n",
      "Hardware errors : [0, 0, 0, 0, 32, 0, 0]\n"
     ]
    }
   ],
   "source": [
    "# Check the hardware status of the robot\n",
    "hardware_status = Robot.get_hardware_status()\n",
    "# the hardware status shows information such as \n",
    "# - Temperature\n",
    "# - Calibration needed or in progress\n",
    "# - Motor info, names, temperatures and voltages\n",
    "# - It also includes potential hardware errors\n",
    "print(hardware_status)"
   ]
  },
  {
   "cell_type": "code",
   "execution_count": 64,
   "metadata": {},
   "outputs": [
    {
     "name": "stdout",
     "output_type": "stream",
     "text": [
      "ToolID.GRIPPER_1\n"
     ]
    }
   ],
   "source": [
    "# Ensure the tool is updated an get the current tool in use\n",
    "Robot.update_tool()\n",
    "tool = Robot.get_current_tool_id()\n",
    "print(tool) # ToolID.GRIPPER_1 is the tool we are using for our \n",
    "            # robot experiment and it is a small gripper"
   ]
  },
  {
   "cell_type": "code",
   "execution_count": 66,
   "metadata": {},
   "outputs": [],
   "source": [
    "# Move the robot to the default location, this is done to ensure movement is\n",
    "# based on what is defined from the origin\n",
    "# Set to the learning mode to falseto prevent external adjustment during trajectory\n",
    "Robot.set_learning_mode(False)\n",
    "# adjust the pose to move to the home location\n",
    "Robot.move_to_home_pose()\n",
    "# set the leanring mode back to true to allow external adjustment\n",
    "Robot.set_learning_mode(True)"
   ]
  },
  {
   "cell_type": "markdown",
   "metadata": {},
   "source": [
    "### Manipulating the Tool values and adjusting tool behaviour\n",
    "In this section we will evaluate tool behaviour and compare and constrast low level tool APIs over  high level grasp and release APIs"
   ]
  },
  {
   "cell_type": "code",
   "execution_count": 67,
   "metadata": {},
   "outputs": [],
   "source": [
    "# update the current robot tool\n",
    "Robot.update_tool()\n",
    "# This ensures the robot is aware of what tool is currently in use"
   ]
  },
  {
   "cell_type": "code",
   "execution_count": 68,
   "metadata": {},
   "outputs": [
    {
     "name": "stdout",
     "output_type": "stream",
     "text": [
      "ToolID.GRIPPER_1\n"
     ]
    }
   ],
   "source": [
    "# get the current tool id\n",
    "current_tool = Robot.get_current_tool_id()\n",
    "print(current_tool)"
   ]
  },
  {
   "cell_type": "code",
   "execution_count": 69,
   "metadata": {},
   "outputs": [],
   "source": [
    "# reboot tool\n",
    "# the tool reboot is used when we want to reset the tool after it gets stuck\n",
    "Robot.tool_reboot()"
   ]
  },
  {
   "cell_type": "code",
   "execution_count": 72,
   "metadata": {},
   "outputs": [],
   "source": [
    "# Using high level grasp and release APIs\n",
    "# GRASP\n",
    "Robot.grasp_with_tool()\n",
    "# wait for a few seconds\n",
    "Robot.wait(3)\n",
    "# RELEASE\n",
    "Robot.release_with_tool()\n",
    "# wait for a few seconds\n",
    "Robot.wait(3)\n",
    "# GRASP\n",
    "Robot.grasp_with_tool()"
   ]
  },
  {
   "cell_type": "code",
   "execution_count": 74,
   "metadata": {},
   "outputs": [],
   "source": [
    "# Using low level open and close gripper on niryo robot\n",
    "# The only adjustable parameter we can use for our niryo robot is the speed\n",
    "gripper_speed = 1000\n",
    "\n",
    "# the low level gripper API is not working\n",
    "# GRASP\n",
    "Robot.close_gripper()\n",
    "# wait for a few seconds\n",
    "Robot.wait(3)\n",
    "# RELEASE\n",
    "Robot.open_gripper()\n",
    "# wait for a few seconds\n",
    "Robot.wait(3)\n",
    "# GRASP\n",
    "Robot.close_gripper()"
   ]
  },
  {
   "cell_type": "markdown",
   "metadata": {},
   "source": [
    "Speed difference across the various speeds is very small and negligible, it would be better to use the high level grasp with tool and release with tool APIs"
   ]
  },
  {
   "cell_type": "markdown",
   "metadata": {},
   "source": [
    "### Movement, Joints, Poses and Trajectories\n",
    "In this section we will cover robot movement and pose movement, this will be valuable for us to map the entire scope of location where the robot can move to and map it to pixel images"
   ]
  },
  {
   "cell_type": "code",
   "execution_count": 75,
   "metadata": {},
   "outputs": [],
   "source": [
    "# check if the robot needs calibration and if it needs calibration perform the calibration\n",
    "Robot.calibrate_auto()\n",
    "Robot.wait(2)\n",
    "Robot.set_learning_mode(False)\n",
    "Robot.wait(2)\n",
    "Robot.move_to_home_pose()\n",
    "Robot.wait(2)\n",
    "Robot.set_learning_mode(True)"
   ]
  },
  {
   "cell_type": "code",
   "execution_count": 76,
   "metadata": {},
   "outputs": [
    {
     "name": "stdout",
     "output_type": "stream",
     "text": [
      "x = 0.1239, y = 0.0002, z = 0.1709\n",
      "roll = -0.021, pitch = 1.031, yaw = 0.001\n"
     ]
    }
   ],
   "source": [
    "# Joint movement experiments\n",
    "home_pose = Robot.get_pose()\n",
    "print(home_pose)"
   ]
  },
  {
   "cell_type": "code",
   "execution_count": 89,
   "metadata": {},
   "outputs": [
    {
     "ename": "NiryoRobotException",
     "evalue": "Command KO : An error occured while executing the last command : Goal has been aborted : Command has been aborted due to a collision or a motor not able to follow the given trajectory",
     "output_type": "error",
     "traceback": [
      "\u001b[0;31m---------------------------------------------------------------------------\u001b[0m",
      "\u001b[0;31mNiryoRobotException\u001b[0m                       Traceback (most recent call last)",
      "Cell \u001b[0;32mIn[89], line 4\u001b[0m\n\u001b[1;32m      2\u001b[0m Robot\u001b[39m.\u001b[39mmove_joints(\u001b[39m0.0\u001b[39m, \u001b[39m0.0\u001b[39m, \u001b[39m0.0\u001b[39m, \u001b[39m0.0\u001b[39m, \u001b[39m0.0\u001b[39m, \u001b[39m0.0\u001b[39m)\n\u001b[1;32m      3\u001b[0m Robot\u001b[39m.\u001b[39mwait(\u001b[39m1\u001b[39m)\n\u001b[0;32m----> 4\u001b[0m Robot\u001b[39m.\u001b[39;49mmove_joints(\u001b[39m0.2\u001b[39;49m, \u001b[39m-\u001b[39;49m\u001b[39m0.3\u001b[39;49m, \u001b[39m0.1\u001b[39;49m, \u001b[39m0.0\u001b[39;49m, \u001b[39m0.5\u001b[39;49m, \u001b[39m-\u001b[39;49m\u001b[39m0.8\u001b[39;49m)\n\u001b[1;32m      5\u001b[0m Robot\u001b[39m.\u001b[39mrelease_with_tool()\n\u001b[1;32m      6\u001b[0m Robot\u001b[39m.\u001b[39mwait(\u001b[39m2\u001b[39m)\n",
      "File \u001b[0;32m~/Developer/machine_learning/llm-robotics/venv/lib/python3.11/site-packages/pyniryo/api/tcp_client.py:441\u001b[0m, in \u001b[0;36mNiryoRobot.move_joints\u001b[0;34m(self, *args)\u001b[0m\n\u001b[1;32m    427\u001b[0m \u001b[39m\u001b[39m\u001b[39m\"\"\"\u001b[39;00m\n\u001b[1;32m    428\u001b[0m \u001b[39mMove robot joints. Joints are expressed in radians.\u001b[39;00m\n\u001b[1;32m    429\u001b[0m \n\u001b[0;32m   (...)\u001b[0m\n\u001b[1;32m    438\u001b[0m \u001b[39m:rtype: None\u001b[39;00m\n\u001b[1;32m    439\u001b[0m \u001b[39m\"\"\"\u001b[39;00m\n\u001b[1;32m    440\u001b[0m joints \u001b[39m=\u001b[39m \u001b[39mself\u001b[39m\u001b[39m.\u001b[39m__args_joints_to_list(\u001b[39m*\u001b[39margs)\n\u001b[0;32m--> 441\u001b[0m \u001b[39mself\u001b[39;49m\u001b[39m.\u001b[39;49m__send_n_receive(Command\u001b[39m.\u001b[39;49mMOVE_JOINTS, \u001b[39m*\u001b[39;49mjoints)\n",
      "File \u001b[0;32m~/Developer/machine_learning/llm-robotics/venv/lib/python3.11/site-packages/pyniryo/api/tcp_client.py:152\u001b[0m, in \u001b[0;36mNiryoRobot.__send_n_receive\u001b[0;34m(self, command_type, *parameter_list, **kwargs)\u001b[0m\n\u001b[1;32m    149\u001b[0m with_payload \u001b[39m=\u001b[39m kwargs\u001b[39m.\u001b[39mget(\u001b[39m\"\u001b[39m\u001b[39mwith_payload\u001b[39m\u001b[39m\"\u001b[39m, \u001b[39mFalse\u001b[39;00m)\n\u001b[1;32m    151\u001b[0m \u001b[39mself\u001b[39m\u001b[39m.\u001b[39m__send_command(command_type, \u001b[39m*\u001b[39mparameter_list)\n\u001b[0;32m--> 152\u001b[0m \u001b[39mreturn\u001b[39;00m \u001b[39mself\u001b[39;49m\u001b[39m.\u001b[39;49m__receive_answer(with_payload\u001b[39m=\u001b[39;49mwith_payload)\n",
      "File \u001b[0;32m~/Developer/machine_learning/llm-robotics/venv/lib/python3.11/site-packages/pyniryo/api/tcp_client.py:138\u001b[0m, in \u001b[0;36mNiryoRobot.__receive_answer\u001b[0;34m(self, with_payload)\u001b[0m\n\u001b[1;32m    136\u001b[0m     \u001b[39mraise\u001b[39;00m InvalidAnswerException(answer_status)\n\u001b[1;32m    137\u001b[0m \u001b[39mif\u001b[39;00m received_dict[\u001b[39m\"\u001b[39m\u001b[39mstatus\u001b[39m\u001b[39m\"\u001b[39m] \u001b[39m!=\u001b[39m \u001b[39m\"\u001b[39m\u001b[39mOK\u001b[39m\u001b[39m\"\u001b[39m:\n\u001b[0;32m--> 138\u001b[0m     \u001b[39mraise\u001b[39;00m NiryoRobotException(\u001b[39m\"\u001b[39m\u001b[39mCommand KO : \u001b[39m\u001b[39m{}\u001b[39;00m\u001b[39m\"\u001b[39m\u001b[39m.\u001b[39mformat(received_dict[\u001b[39m\"\u001b[39m\u001b[39mmessage\u001b[39m\u001b[39m\"\u001b[39m]))\n\u001b[1;32m    139\u001b[0m list_ret_param \u001b[39m=\u001b[39m received_dict[\u001b[39m\"\u001b[39m\u001b[39mlist_ret_param\u001b[39m\u001b[39m\"\u001b[39m]\n\u001b[1;32m    140\u001b[0m \u001b[39mif\u001b[39;00m \u001b[39mlen\u001b[39m(list_ret_param) \u001b[39m==\u001b[39m \u001b[39m1\u001b[39m:\n",
      "\u001b[0;31mNiryoRobotException\u001b[0m: Command KO : An error occured while executing the last command : Goal has been aborted : Command has been aborted due to a collision or a motor not able to follow the given trajectory"
     ]
    }
   ],
   "source": [
    "# move the joint to a specific joint position\n",
    "Robot.move_joints(0.0, 0.0, 0.0, 0.0, 0.0, 0.0)\n",
    "Robot.wait(1)\n",
    "Robot.move_joints(0.2, -0.3, 0.1, 0.0, 0.5, -0.8)\n",
    "Robot.release_with_tool()\n",
    "Robot.wait(2)\n",
    "Robot.grasp_with_tool()\n",
    "Robot.wait(1)\n",
    "Robot.move_to_home_pose()\n",
    "Robot.wait(1)\n",
    "Robot.set_learning_mode(True)"
   ]
  },
  {
   "cell_type": "code",
   "execution_count": 3,
   "metadata": {},
   "outputs": [],
   "source": [
    "# Set learning mode to true\n",
    "Robot.set_learning_mode(True)"
   ]
  },
  {
   "cell_type": "code",
   "execution_count": 87,
   "metadata": {},
   "outputs": [
    {
     "ename": "NiryoRobotException",
     "evalue": "Command KO : An error occured while executing the last command : Goal has been aborted : Command has been aborted due to a collision or a motor not able to follow the given trajectory",
     "output_type": "error",
     "traceback": [
      "\u001b[0;31m---------------------------------------------------------------------------\u001b[0m",
      "\u001b[0;31mNiryoRobotException\u001b[0m                       Traceback (most recent call last)",
      "Cell \u001b[0;32mIn[87], line 2\u001b[0m\n\u001b[1;32m      1\u001b[0m \u001b[39m# Get current pose\u001b[39;00m\n\u001b[0;32m----> 2\u001b[0m Robot\u001b[39m.\u001b[39;49mmove_to_home_pose()\n\u001b[1;32m      3\u001b[0m Robot\u001b[39m.\u001b[39mset_learning_mode(\u001b[39mTrue\u001b[39;00m)\n\u001b[1;32m      4\u001b[0m pose_read \u001b[39m=\u001b[39m Robot\u001b[39m.\u001b[39mget_pose()\n",
      "File \u001b[0;32m~/Developer/machine_learning/llm-robotics/venv/lib/python3.11/site-packages/pyniryo/api/tcp_client.py:551\u001b[0m, in \u001b[0;36mNiryoRobot.move_to_home_pose\u001b[0;34m(self)\u001b[0m\n\u001b[1;32m    545\u001b[0m \u001b[39mdef\u001b[39;00m \u001b[39mmove_to_home_pose\u001b[39m(\u001b[39mself\u001b[39m):\n\u001b[1;32m    546\u001b[0m \u001b[39m    \u001b[39m\u001b[39m\"\"\"\u001b[39;00m\n\u001b[1;32m    547\u001b[0m \u001b[39m    Move to a position where the forearm lays on shoulder\u001b[39;00m\n\u001b[1;32m    548\u001b[0m \n\u001b[1;32m    549\u001b[0m \u001b[39m    :rtype: None\u001b[39;00m\n\u001b[1;32m    550\u001b[0m \u001b[39m    \"\"\"\u001b[39;00m\n\u001b[0;32m--> 551\u001b[0m     \u001b[39mself\u001b[39;49m\u001b[39m.\u001b[39;49mmove_joints(\u001b[39m0.0\u001b[39;49m, \u001b[39m0.3\u001b[39;49m, \u001b[39m-\u001b[39;49m\u001b[39m1.3\u001b[39;49m, \u001b[39m0.0\u001b[39;49m, \u001b[39m0.0\u001b[39;49m, \u001b[39m0.0\u001b[39;49m)\n",
      "File \u001b[0;32m~/Developer/machine_learning/llm-robotics/venv/lib/python3.11/site-packages/pyniryo/api/tcp_client.py:441\u001b[0m, in \u001b[0;36mNiryoRobot.move_joints\u001b[0;34m(self, *args)\u001b[0m\n\u001b[1;32m    427\u001b[0m \u001b[39m\u001b[39m\u001b[39m\"\"\"\u001b[39;00m\n\u001b[1;32m    428\u001b[0m \u001b[39mMove robot joints. Joints are expressed in radians.\u001b[39;00m\n\u001b[1;32m    429\u001b[0m \n\u001b[0;32m   (...)\u001b[0m\n\u001b[1;32m    438\u001b[0m \u001b[39m:rtype: None\u001b[39;00m\n\u001b[1;32m    439\u001b[0m \u001b[39m\"\"\"\u001b[39;00m\n\u001b[1;32m    440\u001b[0m joints \u001b[39m=\u001b[39m \u001b[39mself\u001b[39m\u001b[39m.\u001b[39m__args_joints_to_list(\u001b[39m*\u001b[39margs)\n\u001b[0;32m--> 441\u001b[0m \u001b[39mself\u001b[39;49m\u001b[39m.\u001b[39;49m__send_n_receive(Command\u001b[39m.\u001b[39;49mMOVE_JOINTS, \u001b[39m*\u001b[39;49mjoints)\n",
      "File \u001b[0;32m~/Developer/machine_learning/llm-robotics/venv/lib/python3.11/site-packages/pyniryo/api/tcp_client.py:152\u001b[0m, in \u001b[0;36mNiryoRobot.__send_n_receive\u001b[0;34m(self, command_type, *parameter_list, **kwargs)\u001b[0m\n\u001b[1;32m    149\u001b[0m with_payload \u001b[39m=\u001b[39m kwargs\u001b[39m.\u001b[39mget(\u001b[39m\"\u001b[39m\u001b[39mwith_payload\u001b[39m\u001b[39m\"\u001b[39m, \u001b[39mFalse\u001b[39;00m)\n\u001b[1;32m    151\u001b[0m \u001b[39mself\u001b[39m\u001b[39m.\u001b[39m__send_command(command_type, \u001b[39m*\u001b[39mparameter_list)\n\u001b[0;32m--> 152\u001b[0m \u001b[39mreturn\u001b[39;00m \u001b[39mself\u001b[39;49m\u001b[39m.\u001b[39;49m__receive_answer(with_payload\u001b[39m=\u001b[39;49mwith_payload)\n",
      "File \u001b[0;32m~/Developer/machine_learning/llm-robotics/venv/lib/python3.11/site-packages/pyniryo/api/tcp_client.py:138\u001b[0m, in \u001b[0;36mNiryoRobot.__receive_answer\u001b[0;34m(self, with_payload)\u001b[0m\n\u001b[1;32m    136\u001b[0m     \u001b[39mraise\u001b[39;00m InvalidAnswerException(answer_status)\n\u001b[1;32m    137\u001b[0m \u001b[39mif\u001b[39;00m received_dict[\u001b[39m\"\u001b[39m\u001b[39mstatus\u001b[39m\u001b[39m\"\u001b[39m] \u001b[39m!=\u001b[39m \u001b[39m\"\u001b[39m\u001b[39mOK\u001b[39m\u001b[39m\"\u001b[39m:\n\u001b[0;32m--> 138\u001b[0m     \u001b[39mraise\u001b[39;00m NiryoRobotException(\u001b[39m\"\u001b[39m\u001b[39mCommand KO : \u001b[39m\u001b[39m{}\u001b[39;00m\u001b[39m\"\u001b[39m\u001b[39m.\u001b[39mformat(received_dict[\u001b[39m\"\u001b[39m\u001b[39mmessage\u001b[39m\u001b[39m\"\u001b[39m]))\n\u001b[1;32m    139\u001b[0m list_ret_param \u001b[39m=\u001b[39m received_dict[\u001b[39m\"\u001b[39m\u001b[39mlist_ret_param\u001b[39m\u001b[39m\"\u001b[39m]\n\u001b[1;32m    140\u001b[0m \u001b[39mif\u001b[39;00m \u001b[39mlen\u001b[39m(list_ret_param) \u001b[39m==\u001b[39m \u001b[39m1\u001b[39m:\n",
      "\u001b[0;31mNiryoRobotException\u001b[0m: Command KO : An error occured while executing the last command : Goal has been aborted : Command has been aborted due to a collision or a motor not able to follow the given trajectory"
     ]
    }
   ],
   "source": [
    "# Get current pose\n",
    "Robot.move_to_home_pose()\n",
    "Robot.set_learning_mode(True)\n",
    "pose_read = Robot.get_pose()\n",
    "print(pose_read)"
   ]
  },
  {
   "cell_type": "code",
   "execution_count": null,
   "metadata": {},
   "outputs": [],
   "source": [
    "# Pose object definitions\n",
    "# x is the vertical distance of the robot end effector to its base, the lower the value of x, the closer the end effector is to the base of the robot 0.14 is the safest posible value for x, the highest save value for x is 0.4, the z values change depending on teh x values\n",
    "# y is the distance along the horizontal axis of the robot, negetive values are left of the robot\n",
    "# z determines how high from the base the robot should go, the higher the value of z the higher the robot arm, the lower the value the lower the robot goes, we discovered that 0.09 is the lowest safe value for the robot, we also found that 0.225 id the safest high value that the robot can go to\n",
    "\n",
    "# The roll, pitch and yaw are best left as they are\n",
    "\n"
   ]
  },
  {
   "cell_type": "code",
   "execution_count": 86,
   "metadata": {},
   "outputs": [],
   "source": [
    "pose_target_obj = pyniryo.PoseObject(\n",
    "    x=0.225, y=0.15, z=0.07,\n",
    "    roll=0.1, pitch=1.57, yaw=0.0,\n",
    ")\n",
    "Robot.pick_from_pose(pose_target_obj)"
   ]
  },
  {
   "cell_type": "code",
   "execution_count": 5,
   "metadata": {},
   "outputs": [],
   "source": [
    "place = pyniryo.PoseObject(\n",
    "    x=0.225, y=-0.15, z=0.07,\n",
    "    roll=-0.1, pitch=1.57, yaw=0.0,\n",
    ")\n",
    "Robot.place_from_pose(place)"
   ]
  },
  {
   "cell_type": "code",
   "execution_count": 9,
   "metadata": {},
   "outputs": [],
   "source": [
    "# moving to a specific pose\n",
    "# can move to pose as long as poses are valid and can be computed via move-it\n",
    "Robot.grasp_with_tool()\n",
    "Robot.move_pose(place)"
   ]
  },
  {
   "cell_type": "code",
   "execution_count": 55,
   "metadata": {},
   "outputs": [],
   "source": [
    "# Working with joint values to control robot movement\n",
    "j1 = 0.0 # this joint is responsible for the robot base joint\n",
    "j2 = 0.0 # this joint is responsible for the robot shoulder joint\n",
    "j3 = 0.0 # this joint is responsible for the robot elbow joint\n",
    "j4 = 0.0 # this is responsible for the post shoulder arm twist\n",
    "j5 = 0.0 # does not control any joints\n",
    "j6 = 0.0 # controls the wrist joint\n",
    "\n",
    "Robot.move_joints([j1, j2, j3, j4, j5, j6])\n"
   ]
  },
  {
   "cell_type": "code",
   "execution_count": 57,
   "metadata": {},
   "outputs": [
    {
     "name": "stdout",
     "output_type": "stream",
     "text": [
      "[-0.0021666156231653745, 0.29948321208673506, -1.3291746479090476, -0.00153588974175501, -0.01689478715930511, -0.005061454830783556]\n"
     ]
    }
   ],
   "source": [
    "joint_values = Robot.get_joints()\n",
    "print(joint_values)"
   ]
  }
 ],
 "metadata": {
  "kernelspec": {
   "display_name": "venv",
   "language": "python",
   "name": "python3"
  },
  "language_info": {
   "codemirror_mode": {
    "name": "ipython",
    "version": 3
   },
   "file_extension": ".py",
   "mimetype": "text/x-python",
   "name": "python",
   "nbconvert_exporter": "python",
   "pygments_lexer": "ipython3",
   "version": "3.11.5"
  },
  "orig_nbformat": 4
 },
 "nbformat": 4,
 "nbformat_minor": 2
}
